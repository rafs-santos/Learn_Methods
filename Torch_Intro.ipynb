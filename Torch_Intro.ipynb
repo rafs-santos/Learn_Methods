{
  "nbformat": 4,
  "nbformat_minor": 0,
  "metadata": {
    "colab": {
      "name": "Torch_Intro.ipynb",
      "provenance": [],
      "collapsed_sections": [],
      "authorship_tag": "ABX9TyMnxNrOyTZsigPXf1xAXSAM",
      "include_colab_link": true
    },
    "kernelspec": {
      "name": "python3",
      "display_name": "Python 3"
    },
    "language_info": {
      "name": "python"
    },
    "accelerator": "GPU"
  },
  "cells": [
    {
      "cell_type": "markdown",
      "metadata": {
        "id": "view-in-github",
        "colab_type": "text"
      },
      "source": [
        "<a href=\"https://colab.research.google.com/github/rafs-santos/Learn_Methods/blob/main/Torch_Intro.ipynb\" target=\"_parent\"><img src=\"https://colab.research.google.com/assets/colab-badge.svg\" alt=\"Open In Colab\"/></a>"
      ]
    },
    {
      "cell_type": "markdown",
      "source": [
        "# Create a basic MLP with pytorch\n",
        "\n",
        "Classify Iris dataset "
      ],
      "metadata": {
        "id": "YmYcR0xZ1D9g"
      }
    },
    {
      "cell_type": "code",
      "source": [
        "import torch\n",
        "from torch import nn\n",
        "from torch.utils.data import DataLoader, Dataset\n",
        "from sklearn import datasets\n",
        "\n",
        "import numpy as np"
      ],
      "metadata": {
        "id": "grtbQXmS1geD"
      },
      "execution_count": 166,
      "outputs": []
    },
    {
      "cell_type": "markdown",
      "source": [
        "### Load data in the custom class to use structure of pytorch (dataset, dataloader)"
      ],
      "metadata": {
        "id": "HlaT9I5uaHZd"
      }
    },
    {
      "cell_type": "code",
      "source": [
        "class CustomDataset(Dataset):\n",
        "    def __init__(self, data, labels):\n",
        "        self.labels = torch.from_numpy(labels)\n",
        "        self.data = torch.from_numpy(data)\n",
        "        print(self.data.dtype)\n",
        "    def __len__(self):\n",
        "        return len(self.labels)\n",
        "\n",
        "    def __getitem__(self, idx):\n",
        "        return self.data[idx,:], self.labels[idx]"
      ],
      "metadata": {
        "id": "qlcdp3mD3ZoQ"
      },
      "execution_count": 167,
      "outputs": []
    },
    {
      "cell_type": "markdown",
      "source": [
        "### Split data_train and data_test and use dataloader"
      ],
      "metadata": {
        "id": "HToG-Q_AaRnS"
      }
    },
    {
      "cell_type": "code",
      "source": [
        "from sklearn.model_selection import StratifiedShuffleSplit\n",
        "\n",
        "iris = datasets.load_iris()\n",
        "X = np.float32(iris.data)\n",
        "y = np.float32(iris.target).reshape((len(iris.target),1))\n",
        "\n",
        "\n",
        "sss = StratifiedShuffleSplit(n_splits=1, test_size=0.15, random_state=0)\n",
        "for train_index, test_index in sss.split(X, y):\n",
        "  X_train, X_test = X[train_index,:], X[test_index,:]\n",
        "  y_train, y_test = y[train_index], y[test_index]\n",
        "\n",
        "#print(type(X_train[0,0]))\n",
        "train_dataset = CustomDataset(X_train, y_train)\n",
        "test_dataset = CustomDataset(X_test, y_test)\n",
        "\n",
        "train_dataloader = DataLoader(train_dataset, batch_size=len(y_train), shuffle=True)\n",
        "test_dataloader = DataLoader(test_dataset, batch_size=len(y_test), shuffle=True)"
      ],
      "metadata": {
        "colab": {
          "base_uri": "https://localhost:8080/"
        },
        "id": "NvQuTVjk3awH",
        "outputId": "bb25edf2-5d72-4406-cace-1cf3eb532f08"
      },
      "execution_count": 168,
      "outputs": [
        {
          "output_type": "stream",
          "name": "stdout",
          "text": [
            "torch.float32\n",
            "torch.float32\n"
          ]
        }
      ]
    },
    {
      "cell_type": "code",
      "source": [
        "# Get cpu or gpu device for training.\n",
        "device = \"cuda\" if torch.cuda.is_available() else \"cpu\"\n",
        "print(f\"Using {device} device\")\n",
        "\n",
        "# Define model\n",
        "class NeuralNetwork(nn.Module):\n",
        "    def __init__(self, dim_in, dim_hidden, dim_out):\n",
        "        super(NeuralNetwork, self).__init__()\n",
        "        self.flatten = nn.Flatten()\n",
        "        self.linear_relu_stack = nn.Sequential(\n",
        "            nn.Linear(dim_in, dim_hidden),\n",
        "            nn.ReLU(),\n",
        "            nn.Linear(dim_hidden, dim_out)\n",
        "        )\n",
        "\n",
        "    def forward(self, x):\n",
        "        x = self.flatten(x)\n",
        "        logits = self.linear_relu_stack(x)\n",
        "        return logits\n",
        "dim_in, dim_hidden, dim_out = 4, 15, 1\n",
        "model = NeuralNetwork(dim_in, dim_hidden, dim_out).to(device)\n",
        "print(model)"
      ],
      "metadata": {
        "colab": {
          "base_uri": "https://localhost:8080/"
        },
        "id": "9XnfUtj3W1YU",
        "outputId": "00af8fa8-4526-46c5-8545-4ab51ac5c9c9"
      },
      "execution_count": 169,
      "outputs": [
        {
          "output_type": "stream",
          "name": "stdout",
          "text": [
            "Using cuda device\n",
            "NeuralNetwork(\n",
            "  (flatten): Flatten(start_dim=1, end_dim=-1)\n",
            "  (linear_relu_stack): Sequential(\n",
            "    (0): Linear(in_features=4, out_features=15, bias=True)\n",
            "    (1): ReLU()\n",
            "    (2): Linear(in_features=15, out_features=1, bias=True)\n",
            "  )\n",
            ")\n"
          ]
        }
      ]
    },
    {
      "cell_type": "code",
      "source": [
        "# Mean Square Error\n",
        "lossfunc = nn.MSELoss()\n",
        "\n",
        "optimizer = torch.optim.SGD(model.parameters(), lr=1e-5, momentum=0.9)"
      ],
      "metadata": {
        "id": "AdfDj9yIbZKV"
      },
      "execution_count": 170,
      "outputs": []
    },
    {
      "cell_type": "code",
      "source": [
        "def train(model, dataloader, lossfunc, optmizer):\n",
        "  model.train()\n",
        "\n",
        "  cumloss = 0.0\n",
        "  for X, y in dataloader:\n",
        "    X = X.to(device)\n",
        "    y = y.to(device)\n",
        "\n",
        "    pred = model(X)\n",
        "    loss = lossfunc(pred, y)\n",
        "\n",
        "    optimizer.zero_grad()\n",
        "    loss.backward()\n",
        "    optimizer.step()\n",
        "\n",
        "    cumloss += loss.item()\n",
        "\n",
        "  return cumloss/len(dataloader)\n",
        "\n",
        "def test(model, dataloader, lossfunc):\n",
        "  model.eval()\n",
        "\n",
        "  cumloss = 0.0\n",
        "  with torch.no_grad():\n",
        "    for X, y in dataloader:\n",
        "      X = X.to(device)\n",
        "      y = y.to(device)\n",
        "\n",
        "      pred = model(X)\n",
        "      loss = lossfunc(pred, y)\n",
        "\n",
        "      print(np.round(pred.detach().cpu().numpy().T))\n",
        "      print(y.detach().cpu().numpy().T)\n",
        "      cumloss += loss.item()\n",
        "\n",
        "  return cumloss/len(dataloader)"
      ],
      "metadata": {
        "id": "DyHY8uD8eRX3"
      },
      "execution_count": 171,
      "outputs": []
    },
    {
      "cell_type": "code",
      "source": [
        "epochs = 1000\n",
        "\n",
        "for t in range(epochs):\n",
        "  train_loss = train(model, train_dataloader, lossfunc, optimizer)\n",
        "  if t % 500 == 0:\n",
        "    print(f\"Epoch: {t}; Train Loss: {train_loss}\")\n",
        "\n",
        "test_loss = test(model, test_dataloader, lossfunc)\n",
        "print(f\"Test Loss: {test_loss}\")"
      ],
      "metadata": {
        "colab": {
          "base_uri": "https://localhost:8080/"
        },
        "id": "YcPWl6UdfvO9",
        "outputId": "9b3ea7a7-5fc2-4d0a-940c-6a6da5d0c260"
      },
      "execution_count": 172,
      "outputs": [
        {
          "output_type": "stream",
          "name": "stdout",
          "text": [
            "Epoch: 0; Train Loss: 6.356400012969971\n",
            "Epoch: 500; Train Loss: 0.4714565575122833\n",
            "[[1. 1. 1. 1. 1. 1. 1. 1. 1. 1. 1. 1. 1. 1. 1. 1. 1. 1. 1. 1. 1. 1. 1.]]\n",
            "[[2. 2. 2. 1. 0. 0. 1. 2. 2. 1. 0. 2. 0. 1. 0. 1. 1. 0. 0. 1. 2. 1. 0.]]\n",
            "Test Loss: 0.3845616579055786\n"
          ]
        }
      ]
    }
  ]
}